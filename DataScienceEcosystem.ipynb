{
 "cells": [
  {
   "cell_type": "markdown",
   "id": "40b23a35",
   "metadata": {},
   "source": [
    "# Data Science Tools and Ecosystem"
   ]
  },
  {
   "cell_type": "markdown",
   "id": "f5749ca7",
   "metadata": {},
   "source": [
    "## In this notebook, Data Science Tools and Ecosystem are summarized."
   ]
  },
  {
   "cell_type": "markdown",
   "id": "5133b28b",
   "metadata": {},
   "source": [
    "__Objectives:__\n",
    "* List popular languages for Data Science\n",
    "* List commonly used libraries used by Data Scientists\n",
    "* List some data science tools\n",
    "* Evaluate some arithmetic expressions"
   ]
  },
  {
   "cell_type": "markdown",
   "id": "fe55a9d6",
   "metadata": {},
   "source": [
    "__Some of the popular languages that Data Scientists use are:__\n",
    "1. Python\n",
    "2. R\n",
    "3. SQL"
   ]
  },
  {
   "cell_type": "markdown",
   "id": "af2e7eca",
   "metadata": {},
   "source": [
    "__Some of the commonly used libraries used by Data Scientists include:__\n",
    "1. Numpy\n",
    "2. ScikitLearn\n",
    "3. matplotlib"
   ]
  },
  {
   "cell_type": "markdown",
   "id": "228f7748",
   "metadata": {},
   "source": [
    "__Here a table of data science tools__\n",
    "\n",
    "| Data Science Tools |\n",
    "|--------------------|\n",
    "| Jupyter Notebook |\n",
    "| Jupyter Lab |\n",
    "| VS Code |"
   ]
  },
  {
   "cell_type": "markdown",
   "id": "71bd709b",
   "metadata": {},
   "source": [
    "### Below are a few examples of evaluating arithmetic expressions in Python"
   ]
  },
  {
   "cell_type": "code",
   "execution_count": 3,
   "id": "ea5ce62e",
   "metadata": {},
   "outputs": [
    {
     "data": {
      "text/plain": [
       "17"
      ]
     },
     "execution_count": 3,
     "metadata": {},
     "output_type": "execute_result"
    }
   ],
   "source": [
    "# This a simple arithmetic expression to mutiply then add integers\n",
    "(3*4)+5"
   ]
  },
  {
   "cell_type": "code",
   "execution_count": 4,
   "id": "0665ed09",
   "metadata": {},
   "outputs": [
    {
     "data": {
      "text/plain": [
       "3.3333333333333335"
      ]
     },
     "execution_count": 4,
     "metadata": {},
     "output_type": "execute_result"
    }
   ],
   "source": [
    "# This will convert 200 minutes to hours by diving by 60\n",
    "200 / 60 "
   ]
  },
  {
   "cell_type": "markdown",
   "id": "0e7b771f",
   "metadata": {},
   "source": [
    "## Author \n",
    "Abdoul Aziz Sy NIANG"
   ]
  },
  {
   "cell_type": "code",
   "execution_count": null,
   "id": "ef050279",
   "metadata": {},
   "outputs": [],
   "source": []
  }
 ],
 "metadata": {
  "kernelspec": {
   "display_name": "Python 3 (ipykernel)",
   "language": "python",
   "name": "python3"
  },
  "language_info": {
   "codemirror_mode": {
    "name": "ipython",
    "version": 3
   },
   "file_extension": ".py",
   "mimetype": "text/x-python",
   "name": "python",
   "nbconvert_exporter": "python",
   "pygments_lexer": "ipython3",
   "version": "3.9.12"
  }
 },
 "nbformat": 4,
 "nbformat_minor": 5
}
